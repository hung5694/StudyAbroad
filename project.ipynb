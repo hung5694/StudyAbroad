{
 "cells": [
  {
   "cell_type": "markdown",
   "metadata": {},
   "source": [
    "# Study Abroad Match\n",
    "### BMGT404 Group 2 Final Project"
   ]
  },
  {
   "cell_type": "code",
   "execution_count": 1,
   "metadata": {
    "collapsed": true
   },
   "outputs": [],
   "source": [
    "from tkinter import *"
   ]
  },
  {
   "cell_type": "code",
   "execution_count": 2,
   "metadata": {
    "collapsed": true
   },
   "outputs": [],
   "source": [
    "class Project(Tk):\n",
    "    def __init__(self):\n",
    "        Tk.__init__(self)\n",
    "        self.minsize(width=600, height = 600)\n",
    "\n",
    "        container = Frame(self)\n",
    "        container.grid(row = 0, column = 0, sticky = NSEW)\n",
    "        container.grid_rowconfigure(0,weight=1)\n",
    "        container.grid_columnconfigure(0, weight=1)\n",
    "\n",
    "        self.frames = {}\n",
    "\n",
    "        for F in (StartPage,InfoPage,PrefPage,ResultPage):\n",
    "            frame = F(container,self)\n",
    "            self.frames[F] = frame\n",
    "            frame.grid(row = 0, column = 0, sticky = NSEW)\n",
    "\n",
    "        self.show_frame(StartPage)\n",
    "\n",
    "    def show_frame(self, project):\n",
    "        frame = self.frames[project]\n",
    "        frame.tkraise()\n"
   ]
  },
  {
   "cell_type": "code",
   "execution_count": 3,
   "metadata": {
    "collapsed": true
   },
   "outputs": [],
   "source": [
    "class StartPage(Frame):\n",
    "    def __init__(self,parent,project):\n",
    "        Frame.__init__(self,parent)\n",
    "        greeting = Label(self,text=\"Welcome to the UMD Study Abroad Destination Selection GUI\", font = (\"Times New Roman\", 12))\n",
    "        greeting.pack(side=TOP)\n",
    "\n",
    "        button_1 = Button(self, text = \"Continue\", command = lambda: project.show_frame(InfoPage))\n",
    "        button_1.pack(side=BOTTOM)\n"
   ]
  },
  {
   "cell_type": "code",
   "execution_count": 4,
   "metadata": {
    "collapsed": true
   },
   "outputs": [],
   "source": [
    "class InfoPage(Frame):\n",
    "    def __init__(self,parent,project):\n",
    "        Frame.__init__(self,parent)\n",
    "\n",
    "        self.grid_rowconfigure(6,weight=1)\n",
    "        self.grid_columnconfigure(3, weight=1)\n",
    "\n",
    "        intro = Label(self,text=\"Please tell us something about you\",font = (\"Times New Roman\", 12))\n",
    "        intro.grid(row = 0, columnspan = 3,padx = 5, pady = 5)\n",
    "\n",
    "        button_1 = Button(self, text=\"Back\", command=lambda: project.show_frame(StartPage))\n",
    "        button_1.grid(row = 5, column = 0, padx = 5, pady = 5)\n",
    "\n",
    "        button_2 = Button(self, text=\"Continue\", command=lambda: project.show_frame(PrefPage))\n",
    "        button_2.grid(row = 5, column = 2, padx = 5, pady = 5)\n",
    "\n",
    "        name = Label(self,text = \"Full Name\"); name.grid(row = 1, column = 0, padx = 5, pady = 5)\n",
    "        en_name = Entry(self); en_name.grid(row = 1, column = 1, columnspan = 2, padx = 5, pady = 5)\n",
    "\n",
    "        year = Label(self, text = \"Academic Year\"); year.grid(row = 2, column = 0, padx = 5, pady = 5)\n",
    "        year_option = [\"Freshman\", \"Sophomore\", \"Junior\", \"Senior\"]\n",
    "        year_var = StringVar(self); year_var.set(\"Select...\")\n",
    "        en_year = OptionMenu(self,year_var,*year_option); en_year.grid(row = 2, column = 1, columnspan = 2, padx = 5, pady = 5)\n",
    "\n",
    "\n",
    "        major = Label(self,text = \"Major(s)\"); major.grid(row = 3, column = 0, padx = 5, pady = 5)\n",
    "        en_major = Entry(self); en_major.grid(row = 3, column = 1, columnspan = 2, padx = 5, pady = 5)\n",
    "\n",
    "        GPA = Label(self,text = \"GPA\"); GPA.grid(row = 4, column = 0, padx = 5, pady = 5)\n",
    "        en_GPA = Entry(self); en_GPA.grid(row = 4, column = 1, columnspan = 2, padx = 5, pady = 5)\n"
   ]
  },
  {
   "cell_type": "code",
   "execution_count": 5,
   "metadata": {
    "collapsed": true
   },
   "outputs": [],
   "source": [
    "class PrefPage(Frame):\n",
    "    def __init__(self,parent,project):\n",
    "        Frame.__init__(self,parent)\n",
    "\n",
    "        intro = Label(self,text=\"Please tell us your preference about the following\",font = (\"Times New Roman\", 12))\n",
    "        intro.pack(side=TOP)\n",
    "\n",
    "        button_1 = Button(self, text=\"Back\", command=lambda: project.show_frame(InfoPage))\n",
    "        button_1.pack(side=LEFT)\n",
    "\n",
    "        button_2 = Button(self, text=\"Continue\", command=lambda: project.show_frame(ResultPage))\n",
    "        button_2.pack(side=RIGHT)"
   ]
  },
  {
   "cell_type": "code",
   "execution_count": 6,
   "metadata": {
    "collapsed": true
   },
   "outputs": [],
   "source": [
    "class ResultPage(Frame):\n",
    "    def __init__(self,parent,project):\n",
    "        Frame.__init__(self,parent)\n",
    "\n",
    "        intro = Label(self,text=\"Here are our suggestions\",font = (\"Times New Roman\", 12))\n",
    "        intro.pack(side=TOP)\n",
    "\n",
    "        button_1 = Button(self, text=\"Back\", command=lambda: project.show_frame(PrefPage))\n",
    "        button_1.pack(side=LEFT)"
   ]
  },
  {
   "cell_type": "code",
   "execution_count": 7,
   "metadata": {
    "collapsed": true
   },
   "outputs": [],
   "source": [
    "app = Project()\n",
    "app.mainloop()"
   ]
  }
 ],
 "metadata": {
  "kernelspec": {
   "display_name": "Python 3",
   "language": "python",
   "name": "python3"
  },
  "language_info": {
   "codemirror_mode": {
    "name": "ipython",
    "version": 3
   },
   "file_extension": ".py",
   "mimetype": "text/x-python",
   "name": "python",
   "nbconvert_exporter": "python",
   "pygments_lexer": "ipython3",
   "version": "3.6.3"
  }
 },
 "nbformat": 4,
 "nbformat_minor": 2
}
